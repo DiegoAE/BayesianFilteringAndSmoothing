{
 "cells": [
  {
   "cell_type": "markdown",
   "metadata": {},
   "source": [
    "### Course: Bayesian Filtering and Smoothing.\n",
    "### Exercised round: 6\n",
    "### Student's name: Diego Alejandro Agudelo España."
   ]
  },
  {
   "cell_type": "markdown",
   "metadata": {},
   "source": [
    "### Exercise 1. (Optimal Importance Distribution)"
   ]
  },
  {
   "cell_type": "markdown",
   "metadata": {},
   "source": [
    "\n",
    "Recall the following state space model from Exercise 3 on Round 1:\n",
    "\n",
    "\\begin{align}\n",
    "\t\\mathbf{x}_k &= \\begin{bmatrix} 1 & 1 \\\\ 0 & 1 \\end{bmatrix} \\mathbf{x}_{k-1} + \\mathbf{w}_{k-1} \\\\\n",
    "\ty_k   &= \\begin{bmatrix} 1 & 0 \\end{bmatrix} \\mathbf{x}_{k-1} + v_{k}\t\n",
    "\\end{align}\n",
    "\n",
    "\n",
    "where $\\mathbf{x}_k = \\begin{bmatrix}x_k & \\dot{x}_k \\end{bmatrix}^\\top$ is the state, $y_k$ is the measurement, and $\\mathbf{w}_k \\sim \\mathcal{N}(\\mathbf{0}, \\operatorname{diag}(1/10^2,1^2))$ and $v_k \\sim \\mathcal{N}(0,10^2)$ are white Gaussian noise processes.\n",
    "\n",
    "\n",
    "1. Write down the Kalman filter equations for this model.\n",
    "2. Derive expression for the optimal importance distribution for the model:\n",
    "\n",
    "\t\\begin{align}\n",
    "\t\t\\pi(\\mathbf{x}_k) = p(\\mathbf{x}_k|\\mathbf{x}_{k-1},\\mathbf{y}_{1:k}).\n",
    "\t\\end{align}\n",
    "    \n",
    "3. Write pseudo code for the corresponding particle filter algorithm (sequential importance resampling algorithm). Also write down the equations for the weight update.\n",
    "4. Compare the number of CPU steps (multiplications and additions) needed by the particle filter and Kalman filter. Which implementation would you choose for a real implementation?"
   ]
  },
  {
   "cell_type": "markdown",
   "metadata": {},
   "source": [
    "### Solution Exercise 1."
   ]
  },
  {
   "cell_type": "markdown",
   "metadata": {},
   "source": [
    "### 1."
   ]
  },
  {
   "cell_type": "markdown",
   "metadata": {},
   "source": [
    "Rewriting the given state space model as:\n",
    "\n",
    "\\begin{align}\n",
    "\t\\mathcal{x}_k &= \\mathbf{A} \\mathcal{x}_{k-1} + \\mathcal{w}_{k-1} \\qquad & \\mathcal{w}_{k-1} \\sim \\mathcal{N}(0,\\mathbf{Q}) \\\\\n",
    "\ty_k   &= \\mathbf{H} \\mathcal{x}_{k-1} + v_{k} \\qquad & v_{k}  \\sim \\mathcal{N}(0, R)\n",
    "\\end{align}\n",
    "\n",
    "where\n",
    "\n",
    "$$\n",
    "\\mathbf{A} =  \\begin{bmatrix} 1 & 1 \\\\ 0 & 1 \\end{bmatrix} \\qquad \\mathbf{H} =  \\begin{bmatrix} 1 & 0 \\end{bmatrix} \\qquad \\mathbf{Q} = \\operatorname{diag}(1/10^2,1^2) \\qquad R = 10^2\n",
    "$$\n",
    "\n"
   ]
  },
  {
   "cell_type": "markdown",
   "metadata": {},
   "source": [
    "The Kalman Filter equations for the aforementioned model are the following:\n",
    "\n",
    "\n",
    "\n"
   ]
  },
  {
   "cell_type": "markdown",
   "metadata": {},
   "source": [
    "* Initialization:\n",
    "\n",
    "$$\n",
    "\\mathbf{x}_0  \\sim \\mathcal{N}(\\mathbf{m}_0, \\mathbf{P}_0)\n",
    "$$"
   ]
  },
  {
   "cell_type": "markdown",
   "metadata": {
    "collapsed": true
   },
   "source": [
    "* Prediction Step:\n",
    "\n",
    "$$\n",
    "\\begin{align}\n",
    "    \\mathbf{m}_k^{-} & = \\mathbf{A} \\mathbf{m}_{k-1}\\\\\n",
    "    \\mathbf{P}_k^{-} & = \\mathbf{A} \\mathbf{P}_{k-1} \\mathbf{A}^\\top + \\mathbf{Q}\n",
    "\\end{align}\n",
    "$$\n"
   ]
  },
  {
   "cell_type": "markdown",
   "metadata": {},
   "source": [
    "* Update Step\n",
    "\n",
    "$$\n",
    "\\begin{align}\n",
    "    \\mathbf{S}_k & = \\mathbf{H} \\mathbf{P}_{k}^{-} \\mathbf{H}^\\top + \\mathbf{R} \\\\\n",
    "    \\mathbf{K}_k & = \\mathbf{P}_{k}^{-} \\mathbf{H}^\\top \\mathbf{S}_k^{-1}\\\\\n",
    "    \\mathbf{m}_k & = \\mathbf{m}_k^{-} + \\mathbf{K}_k (\\mathbf{y}_k - \\mathbf{H} \\mathbf{m}_k^{-} ) \\\\\n",
    "    \\mathbf{P}_k & = \\mathbf{P}_k^{-} - \\mathbf{K}_{k} \\mathbf{S}_k \\mathbf{K}_{k}^\\top\n",
    "\\end{align}\n",
    "$$"
   ]
  },
  {
   "cell_type": "markdown",
   "metadata": {},
   "source": [
    "### 2."
   ]
  },
  {
   "cell_type": "markdown",
   "metadata": {},
   "source": [
    "Deriving the optimal importance distribution for the given state space model\n",
    "\n",
    "$$\n",
    "\\begin{align}\n",
    "\t\t\\pi(\\mathbf{x}_k) = p(\\mathbf{x}_k|\\mathbf{x}_{k-1},\\mathbf{y}_{1:k}).\n",
    "\\end{align}\n",
    "$$"
   ]
  },
  {
   "cell_type": "markdown",
   "metadata": {},
   "source": [
    "Given the markovian property over the dynamics we have\n",
    "\n",
    "$$\n",
    "p(\\mathbf{x}_k|\\mathbf{x}_{k-1},\\mathbf{y}_{1:k}) = p(\\mathbf{x}_k|\\mathbf{x}_{k-1},{y}_{k})\n",
    "$$"
   ]
  },
  {
   "cell_type": "markdown",
   "metadata": {},
   "source": [
    "Now using Bayes theorem we can rewrite this expression as:\n",
    "\n",
    "$$\n",
    "\\begin{align}\n",
    "p(\\mathbf{x}_k|\\mathbf{x}_{k-1},y_{k}) & = \\frac{p(y_k | \\mathbf{x}_k, \\mathbf{x}_{k-1}) p(\\mathbf{x}_k | \\mathbf{x}_{k-1})}{ p(y_k | \\mathbf{x}_{k-1})  } \\\\\n",
    "                                                   & = \\frac{p(y_k | \\mathbf{x}_k) p(\\mathbf{x}_k | \\mathbf{x}_{k-1})}{ p(y_k | \\mathbf{x}_{k-1})  }\n",
    "\\end{align}\n",
    "$$"
   ]
  },
  {
   "cell_type": "markdown",
   "metadata": {},
   "source": [
    "Recall that the probabilities $p(y_k | \\mathbf{x}_k)$ and $ p(\\mathbf{x}_k | \\mathbf{x}_{k-1})$ are Gaussian distributed, namely:\n",
    "\n",
    "\n",
    "$$\n",
    "p(y_k | \\mathbf{x}_k) \\sim \\mathcal{N}(\\mathbf{H} \\mathbf{x}_{k}, R) \\qquad p(\\mathbf{x}_k | \\mathbf{x}_{k-1})  \\sim \\mathcal{N}(\\mathbf{A} \\mathbf{x}_{k-1}, \\mathbf{Q})\n",
    "$$"
   ]
  },
  {
   "cell_type": "markdown",
   "metadata": {},
   "source": [
    "Therefore Gaussian properties can be applied and the joint distribution of random variables $\\mathbf{x}_k$ and $y_k$ given $\\mathbf{x}_{k-1}$ can be expressed as:\n",
    "\n",
    "$$\n",
    "\\begin{pmatrix}\n",
    "\\mathbf{x}_k \\\\\n",
    "\\mathbf{y}_k \\\\\n",
    "\\end{pmatrix}\n",
    "\\sim\n",
    "\\mathcal{N}\n",
    "\\bigg(\n",
    "\\begin{pmatrix}\n",
    "\\mathbf{A} \\mathbf{x}_{k-1} \\\\\n",
    "\\mathbf{H} \\mathbf{A} \\mathbf{x}_{k-1}  \\\\\n",
    "\\end{pmatrix}\n",
    ",\n",
    "\\begin{pmatrix}\n",
    "\\mathbf{Q} &   \\mathbf{Q} \\mathbf{H}^\\top \\\\\n",
    "  \\mathbf{H} \\mathbf{Q}  & \\mathbf{R} + \\mathbf{H} \\mathbf{Q} \\mathbf{H}^\\top \\\\\n",
    "\\end{pmatrix}\n",
    "\\bigg)\n",
    "$$"
   ]
  },
  {
   "cell_type": "markdown",
   "metadata": {},
   "source": [
    "Now conditioning on $y_k$ we get:"
   ]
  },
  {
   "cell_type": "markdown",
   "metadata": {},
   "source": [
    "$$\n",
    "p(\\mathbf{x}_k|\\mathbf{x}_{k-1},{y}_{k}) = \\mathcal{N}(\\mathbf{m}_{\\pi}, \\mathbf{P}_{\\pi})\n",
    "$$\n",
    "\n",
    "where"
   ]
  },
  {
   "cell_type": "markdown",
   "metadata": {},
   "source": [
    "$$\n",
    "\\mathbf{m}_{\\pi} = \\mathbf{A} \\mathbf{x}_{k-1} + \\mathbf{Q} \\mathbf{H}^\\top  (\\mathbf{R} + \\mathbf{H} \\mathbf{Q} \\mathbf{H}^\\top)^{-1} (y_k - \\mathbf{H} \\mathbf{A} \\mathbf{x}_{k-1})\n",
    "$$\n",
    "\n",
    "$$\n",
    "\\mathbf{P}_{\\pi} = \\mathbf{Q} - \\mathbf{Q} \\mathbf{H}^\\top  (\\mathbf{R} + \\mathbf{H} \\mathbf{Q} \\mathbf{H}^\\top)^{-1} \\mathbf{H} \\mathbf{Q}\n",
    "$$"
   ]
  },
  {
   "cell_type": "markdown",
   "metadata": {},
   "source": [
    "### 3."
   ]
  },
  {
   "cell_type": "markdown",
   "metadata": {},
   "source": [
    "In order to implement the sequential importance resampling algorithm (SIR) the weights update need to be derived. Recall that general weight update for SIR takes the following form:\n",
    "\n",
    "$$\n",
    "W_k^i \\propto W_{k-1}^i \\frac{p(y_k^i | \\mathbf{x}_k^i) p(\\mathbf{x}_k^i | \\mathbf{x}_{k-1}^i)}{\\pi(\\mathbf{x}_k^i | \\mathbf{x}_{0:k-1}^i,  \\mathbf{y}_{1:k}^i)}\n",
    "$$"
   ]
  },
  {
   "cell_type": "markdown",
   "metadata": {},
   "source": [
    "Taking into account the particular form of the optimal important distribution we assumed in this exercise, an equivalent weight update will be:\n",
    "\n",
    "$$\n",
    "\\begin{align}\n",
    "W_k^i & \\propto W_{k-1}^i \\frac{p(y_k^i | \\mathbf{x}_k^i) p(\\mathbf{x}_k^i | \\mathbf{x}_{k-1}^i)}{ \\bigg( \\frac{p(y_k^i | \\mathbf{x}_k^i) p(\\mathbf{x}_k^i | \\mathbf{x}_{k-1}^i)}{ p(y_k | \\mathbf{x}_{k-1}^i)  } \\bigg)} \\\\\n",
    "\\\\\n",
    "      & \\propto W_{k-1}^i  p(y_k | \\mathbf{x}_{k-1}^i) \n",
    "\\end{align}\n",
    "$$\n",
    "\n"
   ]
  },
  {
   "cell_type": "markdown",
   "metadata": {
    "collapsed": true
   },
   "source": [
    "Using the joint distribution derived for $\\mathbf{x}_k$ and $y_k$ given $\\mathbf{x}_{k-1}$ we can easily get the marginal distribution $p(y_k | \\mathbf{x}_{k-1}^i)$ which is:\n",
    "\n",
    "$$\n",
    "p(y_k | \\mathbf{x}_{k-1}^i) = \\mathcal{N}( y_k | \\mathbf{H} \\mathbf{A} \\mathbf{x}_{k-1}^i,  \\mathbf{H} \\mathbf{Q} \\mathbf{H}^\\top + \\mathbf{R})\n",
    "$$"
   ]
  },
  {
   "cell_type": "markdown",
   "metadata": {},
   "source": [
    "Now we have all we need to describe a SIR algorithm for this particular model."
   ]
  },
  {
   "cell_type": "markdown",
   "metadata": {},
   "source": [
    "* Let $T$ be the length of the measurements sequence.\n",
    "* Let $N$ be the number of particles used.\n",
    "* for $k$ in $1,2, \\dots, T$:\n",
    "    * for $i$ in $1,2, \\dots,N$:\n",
    "        * Draw $\\mathbf{x}_k^i$ from important distribution $p(\\mathbf{x}_k^i|\\mathbf{x}_{k-1}^i,{y}_{k}) = \\mathcal{N}(\\mathbf{m}_{\\pi}, \\mathbf{P}_{\\pi})$\n",
    "        * Calculate the new weight using $W_{k}^i \\propto W_{k-1}^i  \\mathcal{N}( y_k | \\mathbf{H} \\mathbf{A} \\mathbf{x}_{k-1}^i,  \\mathbf{H} \\mathbf{Q} \\mathbf{H}^\\top + \\mathbf{R})$ \n",
    "    * Normalize the weights $W_{k}^i$ to sum to unity.\n",
    "    * if the number of effective particles is too low:\n",
    "        * do resampling\n"
   ]
  },
  {
   "cell_type": "markdown",
   "metadata": {},
   "source": [
    "### 4."
   ]
  },
  {
   "cell_type": "markdown",
   "metadata": {},
   "source": [
    "Since most of the computational operations are given in terms of matrix multiplications we have to estimate the number of CPU steps this operation takes. Let's assume that the number of steps (i.e additions and multiplications) needed to multiply a matrix $\\mathbf{A}$ of size $a \\times b$ by a matrix $\\mathbf{B}$ of size $b \\times c$ is about $2 a b c$. Let's also assume that the cost of summing of two matrices $\\mathbf{A}$ and $\\mathbf{B}$ of length $a \\times b$ is $ab$."
   ]
  },
  {
   "cell_type": "markdown",
   "metadata": {},
   "source": [
    "Let's start by giving an estimation of the number of CPU steps needed to peform a Kalman filter iteration."
   ]
  },
  {
   "cell_type": "markdown",
   "metadata": {},
   "source": [
    "* Prediction step:\n",
    "\n",
    "$$\n",
    "\\begin{align}\n",
    "    \\mathbf{m}_k^{-} & = \\mathbf{A} \\mathbf{m}_{k-1} \\qquad \\text{steps} = 2(2\\times2\\times1) = 8\\\\\n",
    "    \\mathbf{P}_k^{-} & = \\mathbf{A} \\mathbf{P}_{k-1} \\mathbf{A}^\\top + \\mathbf{Q} \\qquad \\text{steps} = 2(2\\times2\\times2) + 2(2\\times2\\times2) + 2 \\times 2 = 36\n",
    "\\end{align}\n",
    "$$"
   ]
  },
  {
   "cell_type": "markdown",
   "metadata": {},
   "source": [
    "* Update step.\n",
    "\n",
    "$$\n",
    "\\begin{align}\n",
    "    \\mathbf{S}_k & = \\mathbf{H} \\mathbf{P}_{k}^{-} \\mathbf{H}^\\top + \\mathbf{R} \\qquad \\text{steps} = 2(1\\times2\\times2) + 2(1\\times2\\times1) + 1 = 13\\\\\n",
    "    \\mathbf{K}_k & = \\mathbf{P}_{k}^{-} \\mathbf{H}^\\top \\mathbf{S}_k^{-1} \\qquad \\text{steps} = 2(2\\times2\\times1) + 2 = 10\\\\\n",
    "    \\mathbf{m}_k & = \\mathbf{m}_k^{-} + \\mathbf{K}_k (\\mathbf{y}_k - \\mathbf{H} \\mathbf{m}_k^{-} ) \\qquad \\text{steps} = 2(1\\times2\\times1) + 5 = 9 \\\\\n",
    "    \\mathbf{P}_k & = \\mathbf{P}_k^{-} - \\mathbf{K}_{k} \\mathbf{S}_k \\mathbf{K}_{k}^\\top  \\qquad \\text{steps} = 2(2\\times1\\times2) + 6 = 14\n",
    "\\end{align}\n",
    "$$"
   ]
  },
  {
   "cell_type": "markdown",
   "metadata": {},
   "source": [
    "The above estimation takes into account that some values are in fact scalar values. This gives an estimation of roughly $90$ CPU steps per Kalman filter iteration. Assuming that we have a measurements sequence of length $T$ the overall estimation will be of $90T$"
   ]
  },
  {
   "cell_type": "markdown",
   "metadata": {},
   "source": [
    "On the other hand the particle filter is largely dependent on the number of particles $N$ used to represent the posterior distribution. Most of the matrix multiplication operations can be done offline since they don't depend on $\\mathbf{x}_k$ or $\\mathbf{y}_k$. A rough estimation of the CPU operations needed by the particle filter is $20 N T + C$ where $20$ is the estimation of steps performed for each particle in each iteration and $C$ represents the offline computational work."
   ]
  },
  {
   "cell_type": "markdown",
   "metadata": {},
   "source": [
    "Relying on this estimation it becomes clear that the computational load per iteration of the particle filter is greater to its counterpart using a few particles (e.g. more than $5$). Therefore the Kalman Filter is a better choice from the perspective of computational efficiency."
   ]
  }
 ],
 "metadata": {
  "kernelspec": {
   "display_name": "Python 2",
   "language": "python",
   "name": "python2"
  },
  "language_info": {
   "codemirror_mode": {
    "name": "ipython",
    "version": 2
   },
   "file_extension": ".py",
   "mimetype": "text/x-python",
   "name": "python",
   "nbconvert_exporter": "python",
   "pygments_lexer": "ipython2",
   "version": "2.7.8"
  }
 },
 "nbformat": 4,
 "nbformat_minor": 0
}
