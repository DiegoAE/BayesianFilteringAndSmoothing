{
 "cells": [
  {
   "cell_type": "markdown",
   "metadata": {},
   "source": [
    "### Course: Bayesian Filtering and Smoothing.\n",
    "### Exercise round: 6\n",
    "### Student's name: Diego Alejandro Agudelo España."
   ]
  },
  {
   "cell_type": "markdown",
   "metadata": {},
   "source": [
    "### Exercise 1. (Optimal Importance Distribution)"
   ]
  },
  {
   "cell_type": "markdown",
   "metadata": {},
   "source": [
    "\n",
    "Recall the following state space model from Exercise 3 on Round 1:\n",
    "\n",
    "\\begin{align}\n",
    "\t\\mathbf{x}_k &= \\begin{bmatrix} 1 & 1 \\\\ 0 & 1 \\end{bmatrix} \\mathbf{x}_{k-1} + \\mathbf{w}_{k-1} \\\\\n",
    "\ty_k   &= \\begin{bmatrix} 1 & 0 \\end{bmatrix} \\mathbf{x}_{k-1} + v_{k}\t\n",
    "\\end{align}\n",
    "\n",
    "\n",
    "where $\\mathbf{x}_k = \\begin{bmatrix}x_k & \\dot{x}_k \\end{bmatrix}^\\top$ is the state, $y_k$ is the measurement, and $\\mathbf{w}_k \\sim \\mathcal{N}(\\mathbf{0}, \\operatorname{diag}(1/10^2,1^2))$ and $v_k \\sim \\mathcal{N}(0,10^2)$ are white Gaussian noise processes.\n",
    "\n",
    "\n",
    "1. Write down the Kalman filter equations for this model.\n",
    "2. Derive expression for the optimal importance distribution for the model:\n",
    "\n",
    "\t\\begin{align}\n",
    "\t\t\\pi(\\mathbf{x}_k) = p(\\mathbf{x}_k|\\mathbf{x}_{k-1},\\mathbf{y}_{1:k}).\n",
    "\t\\end{align}\n",
    "    \n",
    "3. Write pseudo code for the corresponding particle filter algorithm (sequential importance resampling algorithm). Also write down the equations for the weight update.\n",
    "4. Compare the number of CPU steps (multiplications and additions) needed by the particle filter and Kalman filter. Which implementation would you choose for a real implementation?"
   ]
  },
  {
   "cell_type": "markdown",
   "metadata": {},
   "source": [
    "### Solution Exercise 1."
   ]
  },
  {
   "cell_type": "markdown",
   "metadata": {},
   "source": [
    "### 1."
   ]
  },
  {
   "cell_type": "markdown",
   "metadata": {},
   "source": [
    "Rewriting the given state space model as:\n",
    "\n",
    "\\begin{align}\n",
    "\t\\mathcal{x}_k &= \\mathbf{A} \\mathcal{x}_{k-1} + \\mathcal{w}_{k-1} \\qquad & \\mathcal{w}_{k-1} \\sim \\mathcal{N}(0,\\mathbf{Q}) \\\\\n",
    "\ty_k   &= \\mathbf{H} \\mathcal{x}_{k-1} + v_{k} \\qquad & v_{k}  \\sim \\mathcal{N}(0, R)\n",
    "\\end{align}\n",
    "\n",
    "where\n",
    "\n",
    "$$\n",
    "\\mathbf{A} =  \\begin{bmatrix} 1 & 1 \\\\ 0 & 1 \\end{bmatrix} \\qquad \\mathbf{H} =  \\begin{bmatrix} 1 & 0 \\end{bmatrix} \\qquad \\mathbf{Q} = \\operatorname{diag}(1/10^2,1^2) \\qquad R = 10^2\n",
    "$$\n",
    "\n"
   ]
  },
  {
   "cell_type": "markdown",
   "metadata": {},
   "source": [
    "The Kalman Filter equations for the aforementioned model are the following:\n",
    "\n",
    "\n",
    "\n"
   ]
  },
  {
   "cell_type": "markdown",
   "metadata": {},
   "source": [
    "* Initialization:\n",
    "\n",
    "$$\n",
    "\\mathbf{x}_0  \\sim \\mathcal{N}(\\mathbf{m}_0, \\mathbf{P}_0)\n",
    "$$"
   ]
  },
  {
   "cell_type": "markdown",
   "metadata": {
    "collapsed": true
   },
   "source": [
    "* Prediction Step:\n",
    "\n",
    "$$\n",
    "\\begin{align}\n",
    "    \\mathbf{m}_k^{-} & = \\mathbf{A} \\mathbf{m}_{k-1}\\\\\n",
    "    \\mathbf{P}_k^{-} & = \\mathbf{A} \\mathbf{P}_{k-1} \\mathbf{A}^\\top + \\mathbf{Q}\n",
    "\\end{align}\n",
    "$$\n"
   ]
  },
  {
   "cell_type": "markdown",
   "metadata": {},
   "source": [
    "* Update Step\n",
    "\n",
    "$$\n",
    "\\begin{align}\n",
    "    \\mathbf{S}_k & = \\mathbf{H} \\mathbf{P}_{k}^{-} \\mathbf{H}^\\top + \\mathbf{R} \\\\\n",
    "    \\mathbf{K}_k & = \\mathbf{P}_{k}^{-} \\mathbf{H}^\\top \\mathbf{S}_k^{-1}\\\\\n",
    "    \\mathbf{m}_k & = \\mathbf{m}_k^{-} + \\mathbf{K}_k (\\mathbf{y}_k - \\mathbf{H} \\mathbf{m}_k^{-} ) \\\\\n",
    "    \\mathbf{P}_k & = \\mathbf{P}_k^{-} - \\mathbf{K}_{k} \\mathbf{S}_k \\mathbf{K}_{k}^\\top\n",
    "\\end{align}\n",
    "$$"
   ]
  },
  {
   "cell_type": "markdown",
   "metadata": {},
   "source": [
    "### 2."
   ]
  },
  {
   "cell_type": "markdown",
   "metadata": {},
   "source": [
    "Deriving the optimal importance distribution for the given state space model\n",
    "\n",
    "$$\n",
    "\\begin{align}\n",
    "\t\t\\pi(\\mathbf{x}_k) = p(\\mathbf{x}_k|\\mathbf{x}_{k-1},\\mathbf{y}_{1:k}).\n",
    "\\end{align}\n",
    "$$"
   ]
  },
  {
   "cell_type": "markdown",
   "metadata": {},
   "source": [
    "Given the markovian property over the dynamics we have\n",
    "\n",
    "$$\n",
    "p(\\mathbf{x}_k|\\mathbf{x}_{k-1},\\mathbf{y}_{1:k}) = p(\\mathbf{x}_k|\\mathbf{x}_{k-1},{y}_{k})\n",
    "$$"
   ]
  },
  {
   "cell_type": "markdown",
   "metadata": {},
   "source": [
    "Now using Bayes theorem we can rewrite this expression as:\n",
    "\n",
    "$$\n",
    "\\begin{align}\n",
    "p(\\mathbf{x}_k|\\mathbf{x}_{k-1},y_{k}) & = \\frac{p(y_k | \\mathbf{x}_k, \\mathbf{x}_{k-1}) p(\\mathbf{x}_k | \\mathbf{x}_{k-1})}{ p(y_k | \\mathbf{x}_{k-1})  } \\\\\n",
    "                                                   & = \\frac{p(y_k | \\mathbf{x}_k) p(\\mathbf{x}_k | \\mathbf{x}_{k-1})}{ p(y_k | \\mathbf{x}_{k-1})  }\n",
    "\\end{align}\n",
    "$$"
   ]
  },
  {
   "cell_type": "markdown",
   "metadata": {},
   "source": [
    "Recall that the probabilities $p(y_k | \\mathbf{x}_k)$ and $ p(\\mathbf{x}_k | \\mathbf{x}_{k-1})$ are Gaussian distributed, namely:\n",
    "\n",
    "\n",
    "$$\n",
    "p(y_k | \\mathbf{x}_k) \\sim \\mathcal{N}(\\mathbf{H} \\mathbf{x}_{k}, R) \\qquad p(\\mathbf{x}_k | \\mathbf{x}_{k-1})  \\sim \\mathcal{N}(\\mathbf{A} \\mathbf{x}_{k-1}, \\mathbf{Q})\n",
    "$$"
   ]
  },
  {
   "cell_type": "markdown",
   "metadata": {},
   "source": [
    "Therefore Gaussian properties can be applied and the joint distribution of random variables $\\mathbf{x}_k$ and $y_k$ given $\\mathbf{x}_{k-1}$ can be expressed as:\n",
    "\n",
    "$$\n",
    "\\begin{pmatrix}\n",
    "\\mathbf{x}_k \\\\\n",
    "\\mathbf{y}_k \\\\\n",
    "\\end{pmatrix}\n",
    "\\sim\n",
    "\\mathcal{N}\n",
    "\\bigg(\n",
    "\\begin{pmatrix}\n",
    "\\mathbf{A} \\mathbf{x}_{k-1} \\\\\n",
    "\\mathbf{H} \\mathbf{A} \\mathbf{x}_{k-1}  \\\\\n",
    "\\end{pmatrix}\n",
    ",\n",
    "\\begin{pmatrix}\n",
    "\\mathbf{Q} &   \\mathbf{Q} \\mathbf{H}^\\top \\\\\n",
    "  \\mathbf{H} \\mathbf{Q}  & \\mathbf{R} + \\mathbf{H} \\mathbf{Q} \\mathbf{H}^\\top \\\\\n",
    "\\end{pmatrix}\n",
    "\\bigg)\n",
    "$$"
   ]
  },
  {
   "cell_type": "markdown",
   "metadata": {},
   "source": [
    "Now conditioning on $y_k$ we get:"
   ]
  },
  {
   "cell_type": "markdown",
   "metadata": {},
   "source": [
    "$$\n",
    "p(\\mathbf{x}_k|\\mathbf{x}_{k-1},{y}_{k}) = \\mathcal{N}(\\mathbf{m}_{\\pi}, \\mathbf{P}_{\\pi})\n",
    "$$\n",
    "\n",
    "where"
   ]
  },
  {
   "cell_type": "markdown",
   "metadata": {},
   "source": [
    "$$\n",
    "\\mathbf{m}_{\\pi} = \\mathbf{A} \\mathbf{x}_{k-1} + \\mathbf{Q} \\mathbf{H}^\\top  (\\mathbf{R} + \\mathbf{H} \\mathbf{Q} \\mathbf{H}^\\top)^{-1} (y_k - \\mathbf{H} \\mathbf{A} \\mathbf{x}_{k-1})\n",
    "$$\n",
    "\n",
    "$$\n",
    "\\mathbf{P}_{\\pi} = \\mathbf{Q} - \\mathbf{Q} \\mathbf{H}^\\top  (\\mathbf{R} + \\mathbf{H} \\mathbf{Q} \\mathbf{H}^\\top)^{-1} \\mathbf{H} \\mathbf{Q}\n",
    "$$"
   ]
  },
  {
   "cell_type": "markdown",
   "metadata": {},
   "source": [
    "### 3."
   ]
  },
  {
   "cell_type": "markdown",
   "metadata": {},
   "source": [
    "In order to implement the sequential importance resampling algorithm (SIR) the weights update need to be derived. Recall that general weight update for SIR takes the following form:\n",
    "\n",
    "$$\n",
    "W_k^i \\propto W_{k-1}^i \\frac{p(y_k^i | \\mathbf{x}_k^i) p(\\mathbf{x}_k^i | \\mathbf{x}_{k-1}^i)}{\\pi(\\mathbf{x}_k^i | \\mathbf{x}_{0:k-1}^i,  \\mathbf{y}_{1:k}^i)}\n",
    "$$"
   ]
  },
  {
   "cell_type": "markdown",
   "metadata": {},
   "source": [
    "Taking into account the particular form of the optimal important distribution we assumed in this exercise, an equivalent weight update will be:\n",
    "\n",
    "$$\n",
    "\\begin{align}\n",
    "W_k^i & \\propto W_{k-1}^i \\frac{p(y_k^i | \\mathbf{x}_k^i) p(\\mathbf{x}_k^i | \\mathbf{x}_{k-1}^i)}{ \\bigg( \\frac{p(y_k^i | \\mathbf{x}_k^i) p(\\mathbf{x}_k^i | \\mathbf{x}_{k-1}^i)}{ p(y_k | \\mathbf{x}_{k-1}^i)  } \\bigg)} \\\\\n",
    "\\\\\n",
    "      & \\propto W_{k-1}^i  p(y_k | \\mathbf{x}_{k-1}^i) \n",
    "\\end{align}\n",
    "$$\n",
    "\n"
   ]
  },
  {
   "cell_type": "markdown",
   "metadata": {
    "collapsed": true
   },
   "source": [
    "Using the joint distribution derived for $\\mathbf{x}_k$ and $y_k$ given $\\mathbf{x}_{k-1}$ we can easily get the marginal distribution $p(y_k | \\mathbf{x}_{k-1}^i)$ which is:\n",
    "\n",
    "$$\n",
    "p(y_k | \\mathbf{x}_{k-1}^i) = \\mathcal{N}( y_k | \\mathbf{H} \\mathbf{A} \\mathbf{x}_{k-1}^i,  \\mathbf{H} \\mathbf{Q} \\mathbf{H}^\\top + \\mathbf{R})\n",
    "$$"
   ]
  },
  {
   "cell_type": "markdown",
   "metadata": {},
   "source": [
    "Now we have all we need to describe a SIR algorithm for this particular model."
   ]
  },
  {
   "cell_type": "markdown",
   "metadata": {},
   "source": [
    "* Let $T$ be the length of the measurements sequence.\n",
    "* Let $N$ be the number of particles used.\n",
    "* for $k$ in $1,2, \\dots, T$:\n",
    "    * for $i$ in $1,2, \\dots,N$:\n",
    "        * Draw $\\mathbf{x}_k^i$ from important distribution $p(\\mathbf{x}_k^i|\\mathbf{x}_{k-1}^i,{y}_{k}) = \\mathcal{N}(\\mathbf{m}_{\\pi}, \\mathbf{P}_{\\pi})$\n",
    "        * Calculate the new weight using $W_{k}^i \\propto W_{k-1}^i  \\mathcal{N}( y_k | \\mathbf{H} \\mathbf{A} \\mathbf{x}_{k-1}^i,  \\mathbf{H} \\mathbf{Q} \\mathbf{H}^\\top + \\mathbf{R})$ \n",
    "    * Normalize the weights $W_{k}^i$ to sum to unity.\n",
    "    * if the number of effective particles is too low:\n",
    "        * do resampling\n"
   ]
  },
  {
   "cell_type": "markdown",
   "metadata": {},
   "source": [
    "### 4."
   ]
  },
  {
   "cell_type": "markdown",
   "metadata": {},
   "source": [
    "Since most of the computational operations are given in terms of matrix multiplications we have to estimate the number of CPU steps this operation takes. Let's assume that the number of steps (i.e additions and multiplications) needed to multiply a matrix $\\mathbf{A}$ of size $a \\times b$ by a matrix $\\mathbf{B}$ of size $b \\times c$ is about $2 a b c$. Let's also assume that the cost of summing of two matrices $\\mathbf{A}$ and $\\mathbf{B}$ of length $a \\times b$ is $ab$."
   ]
  },
  {
   "cell_type": "markdown",
   "metadata": {},
   "source": [
    "Let's start by giving an estimation of the number of CPU steps needed to peform a Kalman filter iteration."
   ]
  },
  {
   "cell_type": "markdown",
   "metadata": {},
   "source": [
    "* Prediction step:\n",
    "\n",
    "$$\n",
    "\\begin{align}\n",
    "    \\mathbf{m}_k^{-} & = \\mathbf{A} \\mathbf{m}_{k-1} \\qquad \\text{steps} = 2(2\\times2\\times1) = 8\\\\\n",
    "    \\mathbf{P}_k^{-} & = \\mathbf{A} \\mathbf{P}_{k-1} \\mathbf{A}^\\top + \\mathbf{Q} \\qquad \\text{steps} = 2(2\\times2\\times2) + 2(2\\times2\\times2) + 2 \\times 2 = 36\n",
    "\\end{align}\n",
    "$$"
   ]
  },
  {
   "cell_type": "markdown",
   "metadata": {},
   "source": [
    "* Update step.\n",
    "\n",
    "$$\n",
    "\\begin{align}\n",
    "    \\mathbf{S}_k & = \\mathbf{H} \\mathbf{P}_{k}^{-} \\mathbf{H}^\\top + \\mathbf{R} \\qquad \\text{steps} = 2(1\\times2\\times2) + 2(1\\times2\\times1) + 1 = 13\\\\\n",
    "    \\mathbf{K}_k & = \\mathbf{P}_{k}^{-} \\mathbf{H}^\\top \\mathbf{S}_k^{-1} \\qquad \\text{steps} = 2(2\\times2\\times1) + 2 = 10\\\\\n",
    "    \\mathbf{m}_k & = \\mathbf{m}_k^{-} + \\mathbf{K}_k (\\mathbf{y}_k - \\mathbf{H} \\mathbf{m}_k^{-} ) \\qquad \\text{steps} = 2(1\\times2\\times1) + 5 = 9 \\\\\n",
    "    \\mathbf{P}_k & = \\mathbf{P}_k^{-} - \\mathbf{K}_{k} \\mathbf{S}_k \\mathbf{K}_{k}^\\top  \\qquad \\text{steps} = 2(2\\times1\\times2) + 6 = 14\n",
    "\\end{align}\n",
    "$$"
   ]
  },
  {
   "cell_type": "markdown",
   "metadata": {},
   "source": [
    "The above estimation takes into account that some values are in fact scalar values. This gives an estimation of roughly $90$ CPU steps per Kalman filter iteration. Assuming that we have a measurements sequence of length $T$ the overall estimation will be of $90T$"
   ]
  },
  {
   "cell_type": "markdown",
   "metadata": {},
   "source": [
    "On the other hand the particle filter is largely dependent on the number of particles $N$ used to represent the posterior distribution. Most of the matrix multiplication operations can be done offline since they don't depend on $\\mathbf{x}_k$ or $\\mathbf{y}_k$. A rough estimation of the CPU operations needed by the particle filter is $20 N T + C$ where $20$ is the estimation of steps performed for each particle in each iteration and $C$ represents the offline computational work."
   ]
  },
  {
   "cell_type": "markdown",
   "metadata": {},
   "source": [
    "Relying on this estimation it becomes clear that the computational load per iteration of the particle filter is greater to its counterpart using a few particles (e.g. more than $5$). Therefore the Kalman Filter is a better choice from the perspective of computational efficiency."
   ]
  },
  {
   "cell_type": "markdown",
   "metadata": {},
   "source": [
    "###  Exercise 3. (Bearings Only Tracking with SIR)"
   ]
  },
  {
   "cell_type": "markdown",
   "metadata": {},
   "source": [
    "Implement a bootstrap filter and SIR with CKF importance distribution to the bearings only target tracking model in Exercises 4.3 and 5.3. Plot the results and compare RMSE values to those of the non-linear Kalman filters."
   ]
  },
  {
   "cell_type": "markdown",
   "metadata": {},
   "source": [
    "### Solution Exercise 3."
   ]
  },
  {
   "cell_type": "markdown",
   "metadata": {},
   "source": [
    "The following is the implementation of the boostrap filter for the bearings only target tracking model."
   ]
  },
  {
   "cell_type": "code",
   "execution_count": null,
   "metadata": {
    "collapsed": true
   },
   "outputs": [],
   "source": [
    "%% Bearings only target tracking demo file\n",
    "%\n",
    "% Bayesian Estimation of Time-Varying Processes (5 p) L V\n",
    "%\n",
    "% This software is distributed under the GNU General Public \n",
    "% Licence (version 2 or later); please refer to the file \n",
    "% Licence.txt, included with the software, for details.\n",
    "%\n",
    "%% Generate data\n",
    "\n",
    "  % Lock seed\n",
    "  randn('state',123);\n",
    "\n",
    "  % Implement RMSE (true and estimate)\n",
    "  rmse = @(X,EST) sqrt(mean(sum((X-EST).^2)));\n",
    "  \n",
    "  % Create a bit curved trajectory and angle\n",
    "  % measurements from two sensors\n",
    "  S1 = [-1.5;0.5]; % Position of sensor 1\n",
    "  S2 = [1;1];      % Position of sensor 2\n",
    "  sd = 0.05;       % Standard deviation of measurements\n",
    "  dt = 0.01;       % Sampling period\n",
    "  x0 = [0;0;1;0];  % Initial state\n",
    "\n",
    "  a = zeros(1,500);\n",
    "  a(1,50:100)  = pi/2/51/dt + 0.01*randn(1,51);\n",
    "  a(1,200:250) = pi/2/51/dt + 0.01*randn(1,51);\n",
    "  a(1,350:400) = pi/2/51/dt + 0.01*randn(1,51);\n",
    "  x = x0;\n",
    "  t = 0;\n",
    "  X = [];\n",
    "  Theta = [];\n",
    "  T = [];\n",
    "  for i=1:500\n",
    "    F = [0 0  1    0;...\n",
    "         0 0  0    1;...\n",
    "         0 0  0   a(i);...\n",
    "         0 0 -a(i) 0];\n",
    "    x = expm(F*dt)*x;\n",
    "    y1 = atan2(x(2)-S1(2), x(1)-S1(1)) + sd * randn;\n",
    "    y2 = atan2(x(2)-S2(2), x(1)-S2(1)) + sd * randn;\n",
    "    t  = t + dt;\n",
    "    X = [X x];\n",
    "    T = [T t];\n",
    "    Theta = [Theta [y1;y2]];\n",
    "  end\n",
    "  steps = size(Theta,2);\n",
    "\n",
    "\n",
    "%% Dynamic model\n",
    "\n",
    "  % Parameters of the dynamic model\n",
    "  qc = 0.1;\n",
    "  \n",
    "  % This is the transition matrix\n",
    "  A  = [1 0 dt 0;\n",
    "        0 1 0 dt;\n",
    "        0 0 1 0;\n",
    "        0 0 0 1];\n",
    "\n",
    "  % This is the process noise covariance\n",
    "  Q = [qc*dt^3/3 0 qc*dt^2/2 0;\n",
    "       0 qc*dt^3/3 0 qc*dt^2/2;\n",
    "       qc*dt^2/2 0 qc*dt 0;\n",
    "       0 qc*dt^2/2 0 qc*dt];\n",
    " \n",
    "%% Bootstrap Solution\n",
    "  \n",
    "\n",
    "\n",
    "  fprintf('Running Bootstrap solution.\\n');\n",
    "\n",
    "  m2 = x0;            % Initialize to true value\n",
    "  P2 = eye(4);        % Some uncertainty\n",
    "  R  = sd^2*eye(2);   % The joint covariance\n",
    "  EST2 = zeros(4,steps);\n",
    " \n",
    "  N = 10000; % number of particles\n",
    "  % initial set of particles\n",
    "  SX = mvnrnd(m2, P2, N)';\n",
    "  \n",
    "  % Set up figure\n",
    "  figure(1); clf\n",
    "  \n",
    "  % Loop through steps\n",
    "  for k=1:steps\n",
    "    \n",
    "    % Sampling from the important distribution\n",
    "    SX = A * SX + mvnrnd(zeros(size(m2, 1), 1), Q, N)';\n",
    "    \n",
    "    % Propagating particles through the measurement model\n",
    "   \n",
    "    my1 = atan2(SX(2,:) - S1(2), SX(1,:) - S1(1));\n",
    "    my2 = atan2(SX(2,:) - S2(2), SX(1,:) - S2(1));\n",
    "    \n",
    "    % Computing new weights\n",
    "    means = [my1', my2'];\n",
    "    size(means)\n",
    "    W = mvnpdf(Theta(:,k)', means, R)';\n",
    "    \n",
    "    % normalizing\n",
    "    W = W ./ sum(W);\n",
    "    \n",
    "    % Resampling step\n",
    "    idx = resampstr(W);\n",
    "    SX(:,:) = SX(:, idx);\n",
    "   \n",
    "    % computing current mean\n",
    "    m2 = mean(SX, 2);\n",
    "    EST2(:, k) = m2;\n",
    "  end\n",
    "\n",
    "  % Compute error\n",
    "  err_bootstrap = rmse(X,EST2)\n",
    "  \n",
    "  % Plot bootstrap\n",
    "  figure(1); clf\n",
    "\n",
    "    plot(X(1,:),X(2,:),'--',...\n",
    "         EST2(1,:),EST2(2,:),'-',...\n",
    "         S1(1),S1(2),'kx',S2(1),S2(2),'ko')\n",
    "    legend('True trajectory','Bootstrap estimate','Sensor 1','Sensor 2');\n",
    "    xlabel('x'); ylabel('y'); title('\\bf Bootstrap Solution')\n",
    "    axis([-2 2 -2.5 1.5]);\n",
    "  saveas(gcf,'R6_3_Bootstrap.png')\n",
    "  "
   ]
  },
  {
   "cell_type": "code",
   "execution_count": 6,
   "metadata": {
    "collapsed": true
   },
   "outputs": [],
   "source": [
    "from IPython.display import Image"
   ]
  },
  {
   "cell_type": "code",
   "execution_count": 8,
   "metadata": {
    "collapsed": false
   },
   "outputs": [
    {
     "data": {
      "image/png": "[encoded data removed]",
      "text/plain": [
       "<IPython.core.display.Image object>"
      ]
     },
     "execution_count": 8,
     "metadata": {},
     "output_type": "execute_result"
    }
   ],
   "source": [
    "Image(filename='R6_3_Bootstrap.png') "
   ]
  },
  {
   "cell_type": "markdown",
   "metadata": {},
   "source": [
    "Method | RMSE\n",
    "--- | --- \n",
    "Baseline Solution | 1.0194\n",
    "UKF Solution | 0.42017\n",
    "CKF Solution | 0.42017\n",
    "Bootstrap Solution | 0.4599"
   ]
  }
 ],
 "metadata": {
  "kernelspec": {
   "display_name": "Python 2",
   "language": "python",
   "name": "python2"
  },
  "language_info": {
   "codemirror_mode": {
    "name": "ipython",
    "version": 2
   },
   "file_extension": ".py",
   "mimetype": "text/x-python",
   "name": "python",
   "nbconvert_exporter": "python",
   "pygments_lexer": "ipython2",
   "version": "2.7.8"
  }
 },
 "nbformat": 4,
 "nbformat_minor": 0
}
